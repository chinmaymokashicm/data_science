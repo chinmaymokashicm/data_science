{
 "cells": [
  {
   "cell_type": "code",
   "execution_count": 11,
   "metadata": {},
   "outputs": [
    {
     "data": {
      "text/markdown": [
       "**Imports** <br>import numpy as np<br>import matplotlib.pyplot as plt<br>import pandas as pd<br>from IPython.display import display, Markdown, Latex<br>import sys<br>from sklearn.compose import ColumnTransformer<br>from sklearn.preprocessing import OneHotEncoder"
      ],
      "text/plain": [
       "<IPython.core.display.Markdown object>"
      ]
     },
     "metadata": {},
     "output_type": "display_data"
    }
   ],
   "source": [
    "\"\"\" from data_pre_processing import PreProcessing\n",
    "\n",
    "pre_proc = PreProcessing()\n",
    "ans = pre_proc.import_modules('sys',\n",
    " sklearn__compose = 'ColumnTransformer', sklearn__preprocessing = 'OneHotEncoder'\n",
    " )\n",
    "\n",
    "\n",
    "exec(ans)\n",
    "\n",
    "\n",
    "display(Markdown('**Imports** <br>{}'.format(ans.replace('\\n', '<br>')))) \"\"\""
   ]
  },
  {
   "cell_type": "code",
   "execution_count": 12,
   "metadata": {},
   "outputs": [],
   "source": [
    "from nlp import Text"
   ]
  },
  {
   "cell_type": "code",
   "execution_count": 13,
   "metadata": {},
   "outputs": [
    {
     "output_type": "execute_result",
     "data": {
      "text/plain": "'\\nWe XXGSGSe to be good. We resolve to uphold the law according to our oath.\\n'"
     },
     "metadata": {},
     "execution_count": 13
    }
   ],
   "source": [
    "string = \"\"\"\n",
    "We resolve to be brave. We resolve to be good. We resolve to uphold the law according to our oath.\n",
    "\"\"\"\n",
    "substring = \"resolve\"\n",
    "replacement = \"XXGSGS\"\n",
    "num = 2\n",
    "\n",
    "print(Text().find_and_replace(string, substring, replacement, num))"
   ]
  },
  {
   "cell_type": "code",
   "execution_count": null,
   "metadata": {},
   "outputs": [],
   "source": []
  }
 ],
 "metadata": {
  "kernelspec": {
   "display_name": "Python 3.6.9 64-bit",
   "language": "python",
   "name": "python36964bit8cf669260c7e434abeef57232cbbe76c"
  },
  "language_info": {
   "codemirror_mode": {
    "name": "ipython",
    "version": 3
   },
   "file_extension": ".py",
   "mimetype": "text/x-python",
   "name": "python",
   "nbconvert_exporter": "python",
   "pygments_lexer": "ipython3",
   "version": "3.6.9-final"
  }
 },
 "nbformat": 4,
 "nbformat_minor": 2
}